{
 "cells": [
  {
   "cell_type": "code",
   "execution_count": null,
   "metadata": {},
   "outputs": [],
   "source": [
    "import math\n",
    "from tqdm import tqdm_notebook as tqdm\n",
    "import sisl\n",
    "import numpy as np\n",
    "import matplotlib.pyplot as plt\n",
    "%matplotlib inline"
   ]
  },
  {
   "cell_type": "markdown",
   "metadata": {},
   "source": [
    "In TBtrans and TranSiesta one is capable of performing real space transport calculations by using real space self-energies (see [here](https://doi.org/10.1103/PhysRevB.100.195417)).  \n",
    "Currently the real space self-energy calculation *has* to be performed in `sisl` since it is not implemented in TranSiesta.\n",
    "\n",
    "A real space self-energy is a $\\mathbf k$ averaged self-energy which can emulate *any* 2D or 3D electrode. I.e. for an STM junction a tip and a surface. In such a system the surface could be modelled using the real space self-energy to remove mirror effects of STM tips.\n",
    "\n",
    "The basic principle for calculating the real space self-energy is the Brillouin zone integral:\n",
    "\\begin{equation}\n",
    "   \\mathbf G_{\\mathcal R}(E) = \\int_{\\mathrm{BZ}}\\mathbf G_\\mathbf k\n",
    "\\end{equation}\n",
    "In this example we will construct an STM tip probing a graphene flake.\n",
    "\n",
    "\n",
    "---\n",
    "\n",
    "We start by creating the graphene tight-binding model."
   ]
  },
  {
   "cell_type": "code",
   "execution_count": null,
   "metadata": {},
   "outputs": [],
   "source": [
    "graphene = sisl.geom.graphene(orthogonal=True)"
   ]
  },
  {
   "cell_type": "code",
   "execution_count": null,
   "metadata": {},
   "outputs": [],
   "source": [
    "# Graphene tight-binding parameters\n",
    "on, nn = 0, -2.7\n",
    "H_minimal = sisl.Hamiltonian(graphene)\n",
    "H_minimal.construct([[0.1, 1.44], [on, nn]])"
   ]
  },
  {
   "cell_type": "markdown",
   "metadata": {},
   "source": [
    "Once the minimal graphene unit-cell (here orthogonal) is created we now turn to the calculation of the real space self-energy.  \n",
    "The construction of this object is somewhat complicated:\n",
    "- `object`: the Hamiltonian\n",
    "- `semi_axes`: which axes to use for the recursive self-energy\n",
    "- `k_axis`: which axis to integrate in the Brillouin zone\n",
    "- `unfold`: how many times the `object` needs to be unfolded along each lattice vector, thus this is an integer vector of length 3"
   ]
  },
  {
   "cell_type": "code",
   "execution_count": null,
   "metadata": {},
   "outputs": [],
   "source": [
    "RSSE = sisl.RealSpaceSE(H_minimal, 0, 1, (10, 10, 1))"
   ]
  },
  {
   "cell_type": "markdown",
   "metadata": {},
   "source": [
    "Now we can create the real space self-energy.  \n",
    "However, in TBtrans (and TranSiesta) the electrode atomic indices *must* be in consecutive order.\n",
    "This is a little troublesome since the natural order in a device would be an order according to $x$, $y$ or $z$. To create the correct order we extract the *real space coupling* matrix which is where the real space self-energy would like, the self-energy is calculated using:\n",
    "\\begin{equation}\n",
    "   \\boldsymbol\\Sigma^{\\mathcal R} = E \\mathbf S - \\mathbf H - \\Big[\\int_{\\mathrm{BZ}} \\mathbf G\\Big]^{-1}.\n",
    "\\end{equation}\n",
    "Another way to calculate the self-energy would be to transfer the Green function from the infinite bulk into the region of interest:\n",
    "\\begin{equation}\n",
    "   \\boldsymbol\\Sigma^{\\mathcal R} = \\mathbf V_{\\mathcal R\\infty}\\mathbf G_{\\infty\\setminus\\mathcal R}\\mathbf V_{\\infty\\mathcal R}.\n",
    "\\end{equation}\n",
    "From the 2nd equation it is obvious that the self-energy only lives on the boundary that $\\mathbf V_{\\infty\\mathcal R}$ couples to. Exactly this region is extracted using `real_space_coupling` as below."
   ]
  },
  {
   "cell_type": "code",
   "execution_count": null,
   "metadata": {},
   "outputs": [],
   "source": [
    "H_elec, elec_indices = RSSE.real_space_coupling(ret_indices=True)\n",
    "H_elec.write('GRAPHENE.nc')"
   ]
  },
  {
   "cell_type": "code",
   "execution_count": null,
   "metadata": {},
   "outputs": [],
   "source": [
    "H = RSSE.real_space_parent()\n",
    "# Create the true device by re-arranging the atoms\n",
    "indices = np.arange(len(H))\n",
    "indices = np.delete(indices, elec_indices)\n",
    "indices = np.concatenate([elec_indices, indices])\n",
    "# Now re-arange matrix\n",
    "H = H.sub(indices)"
   ]
  },
  {
   "cell_type": "markdown",
   "metadata": {},
   "source": [
    "Lastly, we need to add the STM tip. Here we simply add a gold atom and manually add the hoppings. "
   ]
  },
  {
   "cell_type": "code",
   "execution_count": null,
   "metadata": {},
   "outputs": [],
   "source": [
    "STM = sisl.Geometry([0, 0, 0], atom=sisl.Atom('Au', R=1.0001), sc=sisl.SuperCell([10, 10, 1], nsc=[1, 1, 3]))\n",
    "H_STM = sisl.Hamiltonian(STM)\n",
    "H_STM.construct([(0.1, 1.1), (0, -1)])\n",
    "H_STM.write('STM.nc')"
   ]
  },
  {
   "cell_type": "code",
   "execution_count": null,
   "metadata": {},
   "outputs": [],
   "source": [
    "mid_xyz = H.geometry.center()\n",
    "idx = H.close(mid_xyz, R=1.33)[0]\n",
    "H_device = H.add(H_STM, offset=H.geometry.xyz[idx] - H_STM.geometry.xyz[0] + [0, 0, 2])\n",
    "na = len(H)\n",
    "idx = H_device.close(na, R=(0.1, 2.25))[1][0]\n",
    "H_device[na, idx] = -0.1\n",
    "H_device[idx, na] = -0.1"
   ]
  },
  {
   "cell_type": "code",
   "execution_count": null,
   "metadata": {},
   "outputs": [],
   "source": [
    "H_device.write('DEVICE.nc')"
   ]
  },
  {
   "cell_type": "markdown",
   "metadata": {},
   "source": [
    "Before we can run calculations we need to create the real space self-energy for the graphene flake in `sisl`.\n",
    "Since the algorithm is not implemented in TBtrans (nor TranSiesta) it needs to be done here.\n",
    "\n",
    "This is somewhat complicated since the files requires a specific order. For ease this tutorial implements it for you."
   ]
  },
  {
   "cell_type": "code",
   "execution_count": null,
   "metadata": {},
   "outputs": [],
   "source": [
    "# A real space transport calculation ONLY needs the Gamma-point\n",
    "gamma = sisl.MonkhorstPack(H_elec, [1] * 3)\n",
    "# Energy contour\n",
    "dE = 0.02\n",
    "E = np.arange(-2, 2 + dE / 2, dE)\n",
    "sisl.io.tableSile(\"contour.E\", 'w').write_data(E, np.zeros(E.size) + dE)"
   ]
  },
  {
   "cell_type": "code",
   "execution_count": null,
   "metadata": {},
   "outputs": [],
   "source": [
    "# Now create the file (should take around 3-4 minutes)\n",
    "eta = 0.001 * 1j\n",
    "with sisl.io.tbtgfSileTBtrans(\"GRAPHENE.TBTGF\") as f:\n",
    "    f.write_header(gamma, E + eta)\n",
    "    for ispin, new_k, k, e in tqdm(f, unit=\"rsSE\"):\n",
    "        if new_k:\n",
    "            f.write_hamiltonian(H_elec.Hk(format='array', dtype=np.complex128))\n",
    "        SeHSE = RSSE.self_energy(e + eta, bulk=True, coupling=True)\n",
    "        f.write_self_energy(SeHSE)"
   ]
  },
  {
   "cell_type": "markdown",
   "metadata": {},
   "source": [
    "## Exercises\n",
    "\n",
    "- Calculate transport, density of state and bond-currents.  \n",
    "   Before running the calculations you have to edit the input file to use the generated `TBTGF` file.  \n",
    "   Additionally one have to edit the $E$ points used for transmission to use the `contour.E` file.\n",
    "   \n",
    "   Please search the manual on how to edit the `RUN.fdf` file appropriately.\n",
    "   \n",
    "- Plot the bond-currents and check their symmetry\n",
    "\n",
    "- **TIME** Redo the calculations using 3 electrodes (left/right/tip) using *k*-points. Converge transmission and then plot the bond-currents.  \n",
    "   Do they look as the real space calculation?"
   ]
  },
  {
   "cell_type": "code",
   "execution_count": null,
   "metadata": {},
   "outputs": [],
   "source": [
    "tbt = sisl.get_sile('siesta.TBT.nc')"
   ]
  },
  {
   "cell_type": "code",
   "execution_count": null,
   "metadata": {},
   "outputs": [],
   "source": []
  },
  {
   "cell_type": "markdown",
   "metadata": {},
   "source": [
    "## Learned lessons\n",
    "\n",
    "- Creation of real space self-energies\n",
    "- Manual specification of energy points for TBtrans\n",
    "- Manual creation of self-energy files for TBtrans\n",
    "- Force TBtrans to use an existing **TBTGF** file on disk."
   ]
  }
 ],
 "metadata": {
  "kernelspec": {
   "display_name": "Python 3",
   "language": "python",
   "name": "python3"
  },
  "language_info": {
   "codemirror_mode": {
    "name": "ipython",
    "version": 3
   },
   "file_extension": ".py",
   "mimetype": "text/x-python",
   "name": "python",
   "nbconvert_exporter": "python",
   "pygments_lexer": "ipython3",
   "version": "3.7.3"
  }
 },
 "nbformat": 4,
 "nbformat_minor": 2
}
